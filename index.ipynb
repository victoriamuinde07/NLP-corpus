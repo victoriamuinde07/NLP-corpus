{
 "cells": [
  {
   "cell_type": "markdown",
   "metadata": {},
   "source": [
    "Exploring a text corpus"
   ]
  },
  {
   "cell_type": "code",
   "execution_count": 2,
   "metadata": {},
   "outputs": [],
   "source": [
    "import nltk \n",
    "nltk.download('gutenberg',quiet=True) \n",
    "nltk.download('stopwords',quiet=True) \n",
    "from nltk.corpus import gutenberg, stopwords \n",
    "from nltk.collocations import * \n",
    "from nltk import FreqDist \n",
    "from nltk import word_tokenize \n",
    "import string \n",
    "import re"
   ]
  },
  {
   "cell_type": "code",
   "execution_count": 3,
   "metadata": {},
   "outputs": [
    {
     "data": {
      "text/plain": [
       "['austen-emma.txt',\n",
       " 'austen-persuasion.txt',\n",
       " 'austen-sense.txt',\n",
       " 'bible-kjv.txt',\n",
       " 'blake-poems.txt',\n",
       " 'bryant-stories.txt',\n",
       " 'burgess-busterbrown.txt',\n",
       " 'carroll-alice.txt',\n",
       " 'chesterton-ball.txt',\n",
       " 'chesterton-brown.txt',\n",
       " 'chesterton-thursday.txt',\n",
       " 'edgeworth-parents.txt',\n",
       " 'melville-moby_dick.txt',\n",
       " 'milton-paradise.txt',\n",
       " 'shakespeare-caesar.txt',\n",
       " 'shakespeare-hamlet.txt',\n",
       " 'shakespeare-macbeth.txt',\n",
       " 'whitman-leaves.txt']"
      ]
     },
     "execution_count": 3,
     "metadata": {},
     "output_type": "execute_result"
    }
   ],
   "source": [
    "file_ids = gutenberg.fileids() \n",
    "file_ids"
   ]
  },
  {
   "cell_type": "markdown",
   "metadata": {},
   "source": [
    "To load the actual corpus,we need to pass in the file id for macbeth into guternberg.raw()"
   ]
  },
  {
   "cell_type": "code",
   "execution_count": 4,
   "metadata": {},
   "outputs": [
    {
     "name": "stdout",
     "output_type": "stream",
     "text": [
      "[The Tragedie of Macbeth by William Shakespeare 1603]\n",
      "\n",
      "\n",
      "Actus Primus. Scoena Prima.\n",
      "\n",
      "Thunder and Lightning. Enter three Witches.\n",
      "\n",
      "  1. When shall we three meet againe?\n",
      "In Thunder, Lightning, or in Raine?\n",
      "  2. When the Hurley-burley's done,\n",
      "When the Battaile's lost, and wonne\n",
      "\n",
      "   3. That will be ere the set of Sunne\n",
      "\n",
      "   1. Where the place?\n",
      "  2. Vpon the Heath\n",
      "\n",
      "   3. There to meet with Macbeth\n",
      "\n",
      "   1. I come, Gray-Malkin\n",
      "\n",
      "   All. Padock calls anon: faire is foule, and foule is faire,\n",
      "Houer through the fogge and filthie ayre.\n",
      "\n",
      "Exeunt.\n",
      "\n",
      "\n",
      "Scena Secunda.\n",
      "\n",
      "Alarum within. Enter King Malcome, Donalbaine, Lenox, with\n",
      "attendants,\n",
      "meeting a bleeding Captaine.\n",
      "\n",
      "  King. What bloody man is that? he can report,\n",
      "As seemeth by his plight, of the Reuolt\n",
      "The newest state\n",
      "\n",
      "   Mal. This is the Serieant,\n",
      "Who like a good and hardie Souldier fought\n",
      "'Gainst my Captiuitie: Haile braue friend;\n",
      "Say to the King, the knowledge of the Broyle,\n",
      "As thou didst leaue it\n",
      "\n",
      "   Cap. Doubtfull it stood,\n",
      "As two spent Swimmers, t\n"
     ]
    }
   ],
   "source": [
    "macbeth_text = gutenberg.raw(file_ids[-2]) \n",
    "print(macbeth_text[:1000])"
   ]
  },
  {
   "cell_type": "markdown",
   "metadata": {},
   "source": [
    "from the above some words are hyphenated.we will use basic tokenization,it will split hyphenated words into individual tokens"
   ]
  },
  {
   "cell_type": "code",
   "execution_count": 5,
   "metadata": {},
   "outputs": [],
   "source": [
    "pattern = \"([a-zA-Z]+(?:'[a-z]+)?)\" \n",
    "macbeth_tokens_raw = nltk.regexp_tokenize(macbeth_text,pattern)"
   ]
  },
  {
   "cell_type": "markdown",
   "metadata": {},
   "source": [
    "using a list comprehension to get the lower case on the tokens"
   ]
  },
  {
   "cell_type": "code",
   "execution_count": 6,
   "metadata": {},
   "outputs": [],
   "source": [
    "macbeth_tokens = [word.lower() for word in macbeth_tokens_raw]"
   ]
  },
  {
   "cell_type": "markdown",
   "metadata": {},
   "source": [
    "### frequency distribution"
   ]
  },
  {
   "cell_type": "code",
   "execution_count": 7,
   "metadata": {},
   "outputs": [
    {
     "data": {
      "text/plain": [
       "[('the', 649),\n",
       " ('and', 545),\n",
       " ('to', 383),\n",
       " ('of', 338),\n",
       " ('i', 331),\n",
       " ('a', 241),\n",
       " ('that', 227),\n",
       " ('my', 203),\n",
       " ('you', 203),\n",
       " ('in', 199),\n",
       " ('is', 180),\n",
       " ('not', 165),\n",
       " ('it', 161),\n",
       " ('with', 153),\n",
       " ('his', 146),\n",
       " ('be', 137),\n",
       " ('macb', 137),\n",
       " ('your', 126),\n",
       " ('our', 123),\n",
       " ('haue', 122),\n",
       " ('but', 120),\n",
       " ('me', 113),\n",
       " ('he', 110),\n",
       " ('for', 109),\n",
       " ('what', 106),\n",
       " ('this', 104),\n",
       " ('all', 99),\n",
       " ('so', 96),\n",
       " ('him', 90),\n",
       " ('as', 89),\n",
       " ('thou', 87),\n",
       " ('we', 83),\n",
       " ('enter', 81),\n",
       " ('which', 80),\n",
       " ('are', 73),\n",
       " ('will', 72),\n",
       " ('they', 70),\n",
       " ('shall', 68),\n",
       " ('no', 67),\n",
       " ('then', 63),\n",
       " ('macbeth', 62),\n",
       " ('their', 62),\n",
       " ('thee', 61),\n",
       " ('vpon', 58),\n",
       " ('on', 58),\n",
       " ('macd', 58),\n",
       " ('from', 57),\n",
       " ('yet', 57),\n",
       " ('thy', 56),\n",
       " ('vs', 55)]"
      ]
     },
     "execution_count": 7,
     "metadata": {},
     "output_type": "execute_result"
    }
   ],
   "source": [
    "macbeth_freqdist = FreqDist(macbeth_tokens) \n",
    "macbeth_freqdist.most_common(50)"
   ]
  },
  {
   "cell_type": "markdown",
   "metadata": {},
   "source": [
    "Getting the first 1000 characters of the text to ensure it loaded correctly"
   ]
  },
  {
   "cell_type": "code",
   "execution_count": 8,
   "metadata": {},
   "outputs": [
    {
     "name": "stdout",
     "output_type": "stream",
     "text": [
      "[The Tragedie of Macbeth by William Shakespeare 1603]\n",
      "\n",
      "\n",
      "Actus Primus. Scoena Prima.\n",
      "\n",
      "Thunder and Lightning. Enter three Witches.\n",
      "\n",
      "  1. When shall we three meet againe?\n",
      "In Thunder, Lightning, or in Raine?\n",
      "  2. When the Hurley-burley's done,\n",
      "When the Battaile's lost, and wonne\n",
      "\n",
      "   3. That will be ere the set of Sunne\n",
      "\n",
      "   1. Where the place?\n",
      "  2. Vpon the Heath\n",
      "\n",
      "   3. There to meet with Macbeth\n",
      "\n",
      "   1. I come, Gray-Malkin\n",
      "\n",
      "   All. Padock calls anon: faire is foule, and foule is faire,\n",
      "Houer through the fogge and filthie ayre.\n",
      "\n",
      "Exeunt.\n",
      "\n",
      "\n",
      "Scena Secunda.\n",
      "\n",
      "Alarum within. Enter King Malcome, Donalbaine, Lenox, with\n",
      "attendants,\n",
      "meeting a bleeding Captaine.\n",
      "\n",
      "  King. What bloody man is that? he can report,\n",
      "As seemeth by his plight, of the Reuolt\n",
      "The newest state\n",
      "\n",
      "   Mal. This is the Serieant,\n",
      "Who like a good and hardie Souldier fought\n",
      "'Gainst my Captiuitie: Haile braue friend;\n",
      "Say to the King, the knowledge of the Broyle,\n",
      "As thou didst leaue it\n",
      "\n",
      "   Cap. Doubtfull it stood,\n",
      "As two spent Swimmers, t\n"
     ]
    }
   ],
   "source": [
    "macbeth_text = gutenberg.raw(file_ids[-2]) \n",
    "print(macbeth_text[:1000])"
   ]
  },
  {
   "cell_type": "markdown",
   "metadata": {},
   "source": [
    "Using basic tokenization splits hyphenated words into individual tokens"
   ]
  },
  {
   "cell_type": "code",
   "execution_count": 9,
   "metadata": {},
   "outputs": [],
   "source": [
    "pattern = \"([a-zA-Z]+(?:'[a-z]+)?)\" \n",
    "macbeth_tokens_raw = nltk.regexp_tokenize(macbeth_text,pattern)"
   ]
  },
  {
   "cell_type": "code",
   "execution_count": 10,
   "metadata": {},
   "outputs": [],
   "source": [
    "stopwords_list = stopwords.words('english')\n",
    "stopwords_list += list(string.punctuation)\n",
    "stopwords_list += ['0', '1', '2', '3', '4', '5', '6', '7', '8', '9']\n",
    "\n",
    "macbeth_words_stopped = [word for word in macbeth_tokens if word not in stopwords_list]"
   ]
  },
  {
   "cell_type": "code",
   "execution_count": 11,
   "metadata": {},
   "outputs": [
    {
     "data": {
      "text/plain": [
       "[('macb', 137),\n",
       " ('haue', 122),\n",
       " ('thou', 87),\n",
       " ('enter', 81),\n",
       " ('shall', 68),\n",
       " ('macbeth', 62),\n",
       " ('thee', 61),\n",
       " ('vpon', 58),\n",
       " ('macd', 58),\n",
       " ('yet', 57),\n",
       " ('thy', 56),\n",
       " ('vs', 55),\n",
       " ('come', 54),\n",
       " ('king', 54),\n",
       " ('hath', 52),\n",
       " ('good', 49),\n",
       " ('rosse', 49),\n",
       " ('lady', 48),\n",
       " ('would', 47),\n",
       " ('time', 46),\n",
       " ('like', 43),\n",
       " ('say', 39),\n",
       " ('doe', 38),\n",
       " ('lord', 38),\n",
       " ('make', 38),\n",
       " ('tis', 37),\n",
       " ('must', 36),\n",
       " ('done', 35),\n",
       " ('selfe', 35),\n",
       " ('ile', 35),\n",
       " ('feare', 35),\n",
       " ('let', 35),\n",
       " ('man', 34),\n",
       " ('wife', 34),\n",
       " ('night', 34),\n",
       " ('banquo', 34),\n",
       " ('well', 33),\n",
       " ('know', 33),\n",
       " ('one', 32),\n",
       " ('great', 31),\n",
       " ('see', 31),\n",
       " ('may', 31),\n",
       " ('exeunt', 30),\n",
       " ('speake', 29),\n",
       " ('sir', 29),\n",
       " ('lenox', 28),\n",
       " ('mine', 26),\n",
       " ('vp', 26),\n",
       " ('th', 26),\n",
       " ('mal', 25)]"
      ]
     },
     "execution_count": 11,
     "metadata": {},
     "output_type": "execute_result"
    }
   ],
   "source": [
    "macbeth_stopped_freqdist = FreqDist(macbeth_words_stopped)\n",
    "macbeth_stopped_freqdist.most_common(50)"
   ]
  },
  {
   "cell_type": "code",
   "execution_count": 12,
   "metadata": {},
   "outputs": [
    {
     "name": "stdout",
     "output_type": "stream",
     "text": [
      "Word       Normalized Frequency\n",
      "macb             0.01354       \n",
      "haue             0.01206       \n",
      "thou             0.008601      \n",
      "enter            0.008008      \n",
      "shall            0.006723      \n",
      "macbeth          0.00613       \n",
      "thee             0.006031      \n",
      "vpon             0.005734      \n",
      "macd             0.005734      \n",
      "yet              0.005635      \n",
      "thy              0.005536      \n",
      "vs               0.005437      \n",
      "come             0.005339      \n",
      "king             0.005339      \n",
      "hath             0.005141      \n",
      "good             0.004844      \n",
      "rosse            0.004844      \n",
      "lady             0.004745      \n",
      "would            0.004647      \n",
      "time             0.004548      \n",
      "like             0.004251      \n",
      "say              0.003856      \n",
      "doe              0.003757      \n",
      "lord             0.003757      \n",
      "make             0.003757      \n",
      "tis              0.003658      \n",
      "must             0.003559      \n",
      "done             0.00346       \n",
      "selfe            0.00346       \n",
      "ile              0.00346       \n",
      "feare            0.00346       \n",
      "let              0.00346       \n",
      "man              0.003361      \n",
      "wife             0.003361      \n",
      "night            0.003361      \n",
      "banquo           0.003361      \n",
      "well             0.003262      \n",
      "know             0.003262      \n",
      "one              0.003164      \n",
      "great            0.003065      \n",
      "see              0.003065      \n",
      "may              0.003065      \n",
      "exeunt           0.002966      \n",
      "speake           0.002867      \n",
      "sir              0.002867      \n",
      "lenox            0.002768      \n",
      "mine             0.00257       \n",
      "vp               0.00257       \n",
      "th               0.00257       \n",
      "mal              0.002472      \n"
     ]
    }
   ],
   "source": [
    "total_word_count = sum(macbeth_stopped_freqdist.values()) \n",
    "macbeth_top_50 = macbeth_stopped_freqdist.most_common(50) \n",
    "print(f'{\"Word\":10} Normalized Frequency') \n",
    "for word in macbeth_top_50:\n",
    "    normalized_frequency = word[1] / total_word_count \n",
    "    print(f'{word[0]:10} {normalized_frequency:^20.4}')"
   ]
  },
  {
   "cell_type": "code",
   "execution_count": 13,
   "metadata": {},
   "outputs": [],
   "source": [
    "bigram_measures = nltk.collocations.BigramAssocMeasures() "
   ]
  },
  {
   "cell_type": "code",
   "execution_count": 14,
   "metadata": {},
   "outputs": [],
   "source": [
    "macbeth_finder = BigramCollocationFinder.from_words(macbeth_words_stopped)"
   ]
  },
  {
   "cell_type": "code",
   "execution_count": 17,
   "metadata": {},
   "outputs": [],
   "source": [
    "macbeth_scored = macbeth_finder.score_ngrams(bigram_measures.pmi)"
   ]
  },
  {
   "cell_type": "code",
   "execution_count": 19,
   "metadata": {},
   "outputs": [
    {
     "data": {
      "text/plain": [
       "[(('abiure', 'taints'), 13.304208699445645),\n",
       " (('abound', 'diuision'), 13.304208699445645),\n",
       " (('accounted', 'dangerous'), 13.304208699445645),\n",
       " ((\"accustom'd\", 'action'), 13.304208699445645),\n",
       " (('acheron', 'meete'), 13.304208699445645),\n",
       " (('acts', 'thoght'), 13.304208699445645),\n",
       " (('actuall', 'performances'), 13.304208699445645),\n",
       " (('adders', 'forke'), 13.304208699445645),\n",
       " ((\"admir'd\", 'disorder'), 13.304208699445645),\n",
       " (('affection', 'stanchlesse'), 13.304208699445645),\n",
       " (('afterwards', 'seale'), 13.304208699445645),\n",
       " (('agents', \"prey's\"), 13.304208699445645),\n",
       " (('alarme', 'excite'), 13.304208699445645),\n",
       " ((\"alarum'd\", 'centinell'), 13.304208699445645),\n",
       " (('alter', 'fauor'), 13.304208699445645),\n",
       " (('among', 'guests'), 13.304208699445645),\n",
       " (('anger', 'blunt'), 13.304208699445645),\n",
       " (('anthonies', 'caesar'), 13.304208699445645),\n",
       " ((\"anticipat'st\", 'dread'), 13.304208699445645),\n",
       " (('antidote', 'cleanse'), 13.304208699445645),\n",
       " (('appeare', 'flying'), 13.304208699445645),\n",
       " (('appease', 'angry'), 13.304208699445645),\n",
       " (('approue', 'loued'), 13.304208699445645),\n",
       " (('arabia', 'sweeten'), 13.304208699445645),\n",
       " (('army', 'boughes'), 13.304208699445645),\n",
       " (('assisted', 'disloyall'), 13.304208699445645),\n",
       " (('auant', 'quit'), 13.304208699445645),\n",
       " (('augure', 'hole'), 13.304208699445645),\n",
       " (('augures', 'vnderstood'), 13.304208699445645),\n",
       " (('auoid', 'ayme'), 13.304208699445645),\n",
       " ((\"authoriz'd\", 'grandam'), 13.304208699445645),\n",
       " (('baited', 'rabbles'), 13.304208699445645),\n",
       " (('balles', 'trebble'), 13.304208699445645),\n",
       " (('balme', 'hurt'), 13.304208699445645),\n",
       " (('barlet', 'approue'), 13.304208699445645),\n",
       " (('barren', 'scepter'), 13.304208699445645),\n",
       " (('bath', 'balme'), 13.304208699445645),\n",
       " (('bathe', 'reeking'), 13.304208699445645),\n",
       " ((\"bear't\", 'thereby'), 13.304208699445645),\n",
       " (('beetle', 'drowsie'), 13.304208699445645),\n",
       " ((\"beleeu'd\", 'palter'), 13.304208699445645),\n",
       " ((\"bellona's\", 'bridegroome'), 13.304208699445645),\n",
       " (('belt', 'rule'), 13.304208699445645),\n",
       " (('beneath', 'yoake'), 13.304208699445645),\n",
       " (('bestride', 'downfall'), 13.304208699445645),\n",
       " ((\"betray's\", 'deepest'), 13.304208699445645),\n",
       " (('bill', 'writes'), 13.304208699445645),\n",
       " (('bladed', 'corne'), 13.304208699445645),\n",
       " (('blames', 'laide'), 13.304208699445645),\n",
       " (('blaspheming', 'iew'), 13.304208699445645)]"
      ]
     },
     "execution_count": 19,
     "metadata": {},
     "output_type": "execute_result"
    }
   ],
   "source": [
    "macbeth_scored[:50]"
   ]
  }
 ],
 "metadata": {
  "kernelspec": {
   "display_name": "base",
   "language": "python",
   "name": "python3"
  },
  "language_info": {
   "codemirror_mode": {
    "name": "ipython",
    "version": 3
   },
   "file_extension": ".py",
   "mimetype": "text/x-python",
   "name": "python",
   "nbconvert_exporter": "python",
   "pygments_lexer": "ipython3",
   "version": "3.11.7"
  }
 },
 "nbformat": 4,
 "nbformat_minor": 2
}
